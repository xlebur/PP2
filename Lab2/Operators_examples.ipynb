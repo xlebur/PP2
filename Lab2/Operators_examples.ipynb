{
 "cells": [
  {
   "cell_type": "code",
   "execution_count": null,
   "metadata": {},
   "outputs": [],
   "source": [
    "print(10 + 5)"
   ]
  },
  {
   "cell_type": "markdown",
   "metadata": {},
   "source": [
    "Python Arithmetic Operators\n",
    "+\tAddition\tx + y\t\n",
    "-\tSubtraction\tx - y\t\n",
    "*\tMultiplication\tx * y\t\n",
    "/\tDivision\tx / y\t\n",
    "%\tModulus\tx % y\t\n",
    "**\tExponentiation\tx ** y\t\n",
    "//\tFloor division\tx // y"
   ]
  },
  {
   "cell_type": "markdown",
   "metadata": {},
   "source": [
    "Python Assignment Operators\n",
    "=\tx = 5\tx = 5\t\n",
    "+=\tx += 3\tx = x + 3\t\n",
    "-=\tx -= 3\tx = x - 3\t\n",
    "*=\tx *= 3\tx = x * 3\t\n",
    "/=\tx /= 3\tx = x / 3\t\n",
    "%=\tx %= 3\tx = x % 3\t\n",
    "//=\tx //= 3\tx = x // 3\t\n",
    "**=\tx **= 3\tx = x ** 3\t\n",
    "&=\tx &= 3\tx = x & 3\t\n",
    "|=\tx |= 3\tx = x | 3\t\n",
    "^=\tx ^= 3\tx = x ^ 3\t\n",
    ">>=\tx >>= 3\tx = x >> 3\t\n",
    "<<=\tx <<= 3\tx = x << 3\t\n",
    ":=\tprint(x := 3)\tx = 3 print(x)"
   ]
  },
  {
   "cell_type": "markdown",
   "metadata": {},
   "source": [
    "Python Comparison Operators\n",
    "==\tEqual\tx == y\t\n",
    "!=\tNot equal\tx != y\t\n",
    ">\tGreater than\tx > y\t\n",
    "<\tLess than\tx < y\t\n",
    ">=\tGreater than or equal to\tx >= y\t\n",
    "<=\tLess than or equal to\tx <= y"
   ]
  },
  {
   "cell_type": "code",
   "execution_count": null,
   "metadata": {},
   "outputs": [],
   "source": [
    "Python Logical Operators\n",
    "and \tReturns True if both statements are true\t                x < 5 and  x < 10\t\n",
    "or\t    Returns True if one of the statements is true\t            x < 5 or x < 4\t\n",
    "not\t    Reverse the result, returns False if the result is true\t    not(x < 5 and x < 10)"
   ]
  },
  {
   "cell_type": "markdown",
   "metadata": {},
   "source": [
    "Python Membership Operators\n",
    "in \t    Returns True if a sequence with the specified value is present in the object\t        x in y\t\n",
    "not in\tReturns True if a sequence with the specified value is not present in the object\tx not in y"
   ]
  },
  {
   "cell_type": "markdown",
   "metadata": {},
   "source": [
    "Python Bitwise Operators\n",
    "& \tAND\tSets each bit to 1 if both bits are 1\t                                        x & y\t\n",
    "|\tOR\tSets each bit to 1 if one of two bits is 1\t                                    x | y\t\n",
    "^\tXOR\tSets each bit to 1 if only one of two bits is 1\t                                x ^ y\t\n",
    "~\tNOT\tInverts all the bits\t                                                        ~x\t\n",
    "<<\tZero fill left shift\tShift left by pushing zeros in from the right and let \n",
    "the leftmost bits fall off\t                                                            x << 2\t\n",
    ">>\tSigned right shift\tShift right by pushing copies of the \n",
    "leftmost bit in from the left, and let the rightmost bits fall off\t                    x >> 2"
   ]
  },
  {
   "cell_type": "code",
   "execution_count": null,
   "metadata": {},
   "outputs": [],
   "source": [
    "print((6 + 3) - (6 + 3))"
   ]
  },
  {
   "cell_type": "code",
   "execution_count": null,
   "metadata": {},
   "outputs": [],
   "source": [
    "#Addition + and subtraction - has the same precedence, and therefor we evaluate the expression from left to right:\n",
    "print(5 + 4 - 7 + 3)"
   ]
  }
 ],
 "metadata": {
  "language_info": {
   "name": "python"
  }
 },
 "nbformat": 4,
 "nbformat_minor": 2
}
