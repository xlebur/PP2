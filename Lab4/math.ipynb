{
 "cells": [
  {
   "cell_type": "code",
   "execution_count": 2,
   "metadata": {},
   "outputs": [
    {
     "name": "stdout",
     "output_type": "stream",
     "text": [
      "Output radian: 0.261799\n"
     ]
    }
   ],
   "source": [
    "import math\n",
    "\n",
    "def degree_to_radian(degree):\n",
    "    return degree * (math.pi / 180)\n",
    "\n",
    "degree = int(input(\"Enter degree: \"))\n",
    "print(\"Output radian:\", round(degree_to_radian(degree), 6))\n"
   ]
  },
  {
   "cell_type": "code",
   "execution_count": 3,
   "metadata": {},
   "outputs": [
    {
     "name": "stdout",
     "output_type": "stream",
     "text": [
      "\n",
      "Area of trapezoid: 27.5\n"
     ]
    }
   ],
   "source": [
    "def trapezoid_area(height, base1, base2):\n",
    "    return 0.5 * (base1 + base2) * height\n",
    "\n",
    "print(\"\\nArea of trapezoid:\", trapezoid_area(5, 5, 6))\n"
   ]
  },
  {
   "cell_type": "code",
   "execution_count": 4,
   "metadata": {},
   "outputs": [
    {
     "name": "stdout",
     "output_type": "stream",
     "text": [
      "\n",
      "The area of the polygon is: 625.0000000000001\n"
     ]
    }
   ],
   "source": [
    "def regular_polygon_area(sides, length):\n",
    "    return (sides * (length ** 2)) / (4 * math.tan(math.pi / sides))\n",
    "\n",
    "print(\"\\nThe area of the polygon is:\", regular_polygon_area(4, 25))"
   ]
  },
  {
   "cell_type": "code",
   "execution_count": 5,
   "metadata": {},
   "outputs": [
    {
     "name": "stdout",
     "output_type": "stream",
     "text": [
      "\n",
      "The area of the parallelogram is: 30\n"
     ]
    }
   ],
   "source": [
    "def parallelogram_area(base, height):\n",
    "    return base * height\n",
    "\n",
    "print(\"\\nThe area of the parallelogram is:\", parallelogram_area(5, 6))\n"
   ]
  }
 ],
 "metadata": {
  "kernelspec": {
   "display_name": "base",
   "language": "python",
   "name": "python3"
  },
  "language_info": {
   "codemirror_mode": {
    "name": "ipython",
    "version": 3
   },
   "file_extension": ".py",
   "mimetype": "text/x-python",
   "name": "python",
   "nbconvert_exporter": "python",
   "pygments_lexer": "ipython3",
   "version": "3.12.7"
  }
 },
 "nbformat": 4,
 "nbformat_minor": 2
}
