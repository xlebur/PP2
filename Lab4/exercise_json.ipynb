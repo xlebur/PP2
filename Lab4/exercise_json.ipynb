{
 "cells": [
  {
   "cell_type": "code",
   "execution_count": 2,
   "metadata": {},
   "outputs": [
    {
     "name": "stdout",
     "output_type": "stream",
     "text": [
      "+--------------------------------------------+---------------+---------+-------+\n",
      "| DN                                         | Description   | Speed   |   MTU |\n",
      "+============================================+===============+=========+=======+\n",
      "| topology/pod-1/node-201/sys/phys-[eth1/33] | inherit       | inherit |  9150 |\n",
      "+--------------------------------------------+---------------+---------+-------+\n",
      "| topology/pod-1/node-201/sys/phys-[eth1/34] | inherit       | inherit |  9150 |\n",
      "+--------------------------------------------+---------------+---------+-------+\n",
      "| topology/pod-1/node-201/sys/phys-[eth1/35] | inherit       | inherit |  9150 |\n",
      "+--------------------------------------------+---------------+---------+-------+\n",
      "| topology/pod-1/node-201/sys/phys-[eth1/36] | inherit       | inherit |  9150 |\n",
      "+--------------------------------------------+---------------+---------+-------+\n",
      "| topology/pod-1/node-201/sys/phys-[eth1/1]  | inherit       | inherit |  9150 |\n",
      "+--------------------------------------------+---------------+---------+-------+\n",
      "| topology/pod-1/node-201/sys/phys-[eth1/2]  | inherit       | inherit |  9150 |\n",
      "+--------------------------------------------+---------------+---------+-------+\n",
      "| topology/pod-1/node-201/sys/phys-[eth1/3]  | inherit       | inherit |  9150 |\n",
      "+--------------------------------------------+---------------+---------+-------+\n",
      "| topology/pod-1/node-201/sys/phys-[eth1/4]  | inherit       | inherit |  9150 |\n",
      "+--------------------------------------------+---------------+---------+-------+\n",
      "| topology/pod-1/node-201/sys/phys-[eth1/5]  | inherit       | inherit |  9150 |\n",
      "+--------------------------------------------+---------------+---------+-------+\n",
      "| topology/pod-1/node-201/sys/phys-[eth1/6]  | inherit       | inherit |  9150 |\n",
      "+--------------------------------------------+---------------+---------+-------+\n",
      "| topology/pod-1/node-201/sys/phys-[eth1/7]  | inherit       | inherit |  9150 |\n",
      "+--------------------------------------------+---------------+---------+-------+\n",
      "| topology/pod-1/node-201/sys/phys-[eth1/8]  | inherit       | inherit |  9150 |\n",
      "+--------------------------------------------+---------------+---------+-------+\n",
      "| topology/pod-1/node-201/sys/phys-[eth1/9]  | inherit       | inherit |  9150 |\n",
      "+--------------------------------------------+---------------+---------+-------+\n",
      "| topology/pod-1/node-201/sys/phys-[eth1/10] | inherit       | inherit |  9150 |\n",
      "+--------------------------------------------+---------------+---------+-------+\n",
      "| topology/pod-1/node-201/sys/phys-[eth1/11] | inherit       | inherit |  9150 |\n",
      "+--------------------------------------------+---------------+---------+-------+\n",
      "| topology/pod-1/node-201/sys/phys-[eth1/12] | inherit       | inherit |  9150 |\n",
      "+--------------------------------------------+---------------+---------+-------+\n",
      "| topology/pod-1/node-201/sys/phys-[eth1/13] | inherit       | inherit |  9150 |\n",
      "+--------------------------------------------+---------------+---------+-------+\n",
      "| topology/pod-1/node-201/sys/phys-[eth1/14] | inherit       | inherit |  9150 |\n",
      "+--------------------------------------------+---------------+---------+-------+\n"
     ]
    },
    {
     "ename": "TypeError",
     "evalue": "string indices must be integers, not 'str'",
     "output_type": "error",
     "traceback": [
      "\u001b[1;31m---------------------------------------------------------------------------\u001b[0m",
      "\u001b[1;31mTypeError\u001b[0m                                 Traceback (most recent call last)",
      "Cell \u001b[1;32mIn[2], line 22\u001b[0m\n\u001b[0;32m     19\u001b[0m \u001b[38;5;28mprint\u001b[39m(tabulate(interface_data, headers\u001b[38;5;241m=\u001b[39mtable_headers, tablefmt\u001b[38;5;241m=\u001b[39m\u001b[38;5;124m\"\u001b[39m\u001b[38;5;124mgrid\u001b[39m\u001b[38;5;124m\"\u001b[39m))\n\u001b[0;32m     21\u001b[0m \u001b[38;5;28;01mfor\u001b[39;00m i \u001b[38;5;129;01min\u001b[39;00m [\u001b[38;5;124m\"\u001b[39m\u001b[38;5;124mimdata\u001b[39m\u001b[38;5;124m\"\u001b[39m]:\n\u001b[1;32m---> 22\u001b[0m     \u001b[38;5;28mprint\u001b[39m (i[\u001b[38;5;124m\"\u001b[39m\u001b[38;5;124madminSt\u001b[39m\u001b[38;5;124m\"\u001b[39m])\n",
      "\u001b[1;31mTypeError\u001b[0m: string indices must be integers, not 'str'"
     ]
    }
   ],
   "source": [
    "import json \n",
    "from tabulate import tabulate\n",
    "\n",
    "file_path = \"C:/Users/omaru/Desktop/PP2_Spring/Lab4/sample-data.json\"\n",
    "with open(file_path, \"r\", encoding=\"utf-8\") as file:\n",
    "    data = json.load(file)\n",
    "\n",
    "interface_data = []\n",
    "for item in data[\"imdata\"]:\n",
    "    attributes = item[\"l1PhysIf\"][\"attributes\"]\n",
    "    interface_data.append([\n",
    "        attributes[\"dn\"],  \n",
    "        attributes[\"descr\"] if attributes[\"descr\"] else \"inherit\",  \n",
    "        attributes[\"speed\"],  \n",
    "        attributes[\"mtu\"]  \n",
    "    ])\n",
    "\n",
    "table_headers = [\"DN\", \"Description\", \"Speed\", \"MTU\"]\n",
    "print(tabulate(interface_data, headers=table_headers, tablefmt=\"grid\"))\n",
    "\n",
    "for i in [\"imdata\"]:\n",
    "    print (i[\"adminSt\"])"
   ]
  }
 ],
 "metadata": {
  "kernelspec": {
   "display_name": "base",
   "language": "python",
   "name": "python3"
  },
  "language_info": {
   "codemirror_mode": {
    "name": "ipython",
    "version": 3
   },
   "file_extension": ".py",
   "mimetype": "text/x-python",
   "name": "python",
   "nbconvert_exporter": "python",
   "pygments_lexer": "ipython3",
   "version": "3.12.7"
  }
 },
 "nbformat": 4,
 "nbformat_minor": 2
}
