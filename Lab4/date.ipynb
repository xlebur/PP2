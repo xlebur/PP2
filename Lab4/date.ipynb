{
 "cells": [
  {
   "cell_type": "code",
   "execution_count": 2,
   "metadata": {},
   "outputs": [
    {
     "name": "stdout",
     "output_type": "stream",
     "text": [
      "Current Date: 2025-02-14\n",
      "Date 5 Days Ago: 2025-02-09\n"
     ]
    }
   ],
   "source": [
    "from datetime import datetime, timedelta\n",
    "\n",
    "current_date = datetime.now()\n",
    "date_minus_five = current_date - timedelta(days=5)\n",
    "print(\"Current Date:\", current_date.strftime(\"%Y-%m-%d\"))\n",
    "print(\"Date 5 Days Ago:\", date_minus_five.strftime(\"%Y-%m-%d\"))"
   ]
  },
  {
   "cell_type": "code",
   "execution_count": 4,
   "metadata": {},
   "outputs": [
    {
     "name": "stdout",
     "output_type": "stream",
     "text": [
      "\n",
      " Yessterday: 02-13\n",
      "Today: 02-14\n",
      "Tomorrow: 02-15\n"
     ]
    }
   ],
   "source": [
    "from datetime import datetime, timedelta\n",
    "\n",
    "current_date = datetime.now()\n",
    "date_minus_one = current_date - timedelta(days=1)\n",
    "date_plus_one = current_date + timedelta(days=1)\n",
    "print(\"\\n Yessterday:\", date_minus_one.strftime(\"%m-%d\"))\n",
    "print(\"Today:\", current_date.strftime(\"%m-%d\"))\n",
    "print(\"Tomorrow:\", date_plus_one.strftime(\"%m-%d\"))"
   ]
  },
  {
   "cell_type": "code",
   "execution_count": 5,
   "metadata": {},
   "outputs": [
    {
     "name": "stdout",
     "output_type": "stream",
     "text": [
      "\n",
      "Datetime without Microseconds: 2025-02-14 17:32:18\n"
     ]
    }
   ],
   "source": [
    "from datetime import datetime, timedelta\n",
    "\n",
    "datetime_without_microseconds = current_date.replace(microsecond=0)\n",
    "print(\"\\nDatetime without Microseconds:\", datetime_without_microseconds)"
   ]
  },
  {
   "cell_type": "code",
   "execution_count": 9,
   "metadata": {},
   "outputs": [
    {
     "name": "stdout",
     "output_type": "stream",
     "text": [
      "\n",
      "Difference between two dates in seconds: 1123200.0\n"
     ]
    }
   ],
   "source": [
    "from datetime import datetime, timedelta\n",
    "\n",
    "date1 = datetime(2025, 2, 1, 0, 0, 0)\n",
    "date2 = datetime(2025, 2, 14, 0, 0, 0)\n",
    "difference_in_seconds = (date2 - date1).total_seconds()\n",
    "print(\"\\nDifference between two dates in seconds:\", difference_in_seconds)"
   ]
  }
 ],
 "metadata": {
  "kernelspec": {
   "display_name": "base",
   "language": "python",
   "name": "python3"
  },
  "language_info": {
   "codemirror_mode": {
    "name": "ipython",
    "version": 3
   },
   "file_extension": ".py",
   "mimetype": "text/x-python",
   "name": "python",
   "nbconvert_exporter": "python",
   "pygments_lexer": "ipython3",
   "version": "3.12.7"
  }
 },
 "nbformat": 4,
 "nbformat_minor": 2
}
