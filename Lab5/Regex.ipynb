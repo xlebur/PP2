{
 "cells": [
  {
   "cell_type": "code",
   "execution_count": 1,
   "metadata": {},
   "outputs": [
    {
     "name": "stdout",
     "output_type": "stream",
     "text": [
      "Found:  a\n"
     ]
    }
   ],
   "source": [
    "import re\n",
    "\n",
    "s = input('Input your string: ')\n",
    "\n",
    "check = re.compile('ab*')\n",
    "\n",
    "n = check.search(s)\n",
    "\n",
    "if n:\n",
    "    print(\"Found: \", n.group())\n",
    "\n",
    "else:\n",
    "    print('No match')"
   ]
  },
  {
   "cell_type": "code",
   "execution_count": null,
   "metadata": {},
   "outputs": [],
   "source": [
    "import re\n",
    "\n",
    "s = input('Input your string: ')\n",
    "\n",
    "check = re.compile('ab{2, 3}')\n",
    "\n",
    "n = check.search(s)\n",
    "\n",
    "if n:\n",
    "    print(\"Found: \", n.group())\n",
    "\n",
    "else:\n",
    "    print('No match')"
   ]
  },
  {
   "cell_type": "code",
   "execution_count": null,
   "metadata": {},
   "outputs": [],
   "source": [
    "import re\n",
    "\n",
    "s = input('Input your string: ')\n",
    "\n",
    "check = re.compile('[a-z]+_[a-z]+')\n",
    "\n",
    "n = check.search(s)\n",
    "\n",
    "if n:\n",
    "    print(\"Found: \", n.group())\n",
    "\n",
    "else:\n",
    "    print('No match')"
   ]
  },
  {
   "cell_type": "code",
   "execution_count": null,
   "metadata": {},
   "outputs": [],
   "source": [
    "import re\n",
    "\n",
    "s = input('Input your string: ')\n",
    "\n",
    "check = re.compile('[A-Z][a-z]+')\n",
    "\n",
    "n = check.search(s)\n",
    "\n",
    "if n:\n",
    "    print(\"Found: \", n.group())\n",
    "\n",
    "else:\n",
    "    print('No match')"
   ]
  },
  {
   "cell_type": "code",
   "execution_count": null,
   "metadata": {},
   "outputs": [],
   "source": [
    "import re\n",
    "\n",
    "s = input('Input your string: ')\n",
    "\n",
    "check = re.compile('a.*b$')\n",
    "\n",
    "n = check.search(s)\n",
    "\n",
    "if n:\n",
    "    print(\"Found: \", n.group())\n",
    "\n",
    "else:\n",
    "    print('No match')"
   ]
  },
  {
   "cell_type": "code",
   "execution_count": null,
   "metadata": {},
   "outputs": [],
   "source": [
    "import re\n",
    "\n",
    "s = input('Input your string: ')\n",
    "\n",
    "print(re.sub(r'[ ,.]', ':', s))"
   ]
  },
  {
   "cell_type": "code",
   "execution_count": null,
   "metadata": {},
   "outputs": [],
   "source": [
    "import re\n",
    "\n",
    "s = input('Input your string: ')\n",
    "\n",
    "def snake_to_camel(s):\n",
    "    words = s.split('_')\n",
    "    c_words = words[0].capitalize() + ''.join(word.capitalize() for word in words[1:])\n",
    "    return c_words    \n",
    "    \n",
    "print(snake_to_camel(s))"
   ]
  },
  {
   "cell_type": "code",
   "execution_count": null,
   "metadata": {},
   "outputs": [],
   "source": [
    "import re\n",
    "\n",
    "s = input('Input your string: ')\n",
    "\n",
    "def space_between_big(s):\n",
    "    result = re.sub(r'([a-z])([A-Z])', r'\\1 \\2', s)\n",
    "    return result\n",
    "\n",
    "print(space_between_big(s))"
   ]
  },
  {
   "cell_type": "code",
   "execution_count": 3,
   "metadata": {},
   "outputs": [
    {
     "name": "stdout",
     "output_type": "stream",
     "text": [
      "D F S D F G S G S D\n"
     ]
    }
   ],
   "source": [
    "import re\n",
    "\n",
    "s = input('Input your string: ')\n",
    "\n",
    "def insert_spaces_before_capitals(s):\n",
    "    result = re.sub(r'(?<!^)(?=[A-Z])', ' ', s)\n",
    "    return result\n",
    "\n",
    "print(insert_spaces_before_capitals(s))"
   ]
  },
  {
   "cell_type": "code",
   "execution_count": 5,
   "metadata": {},
   "outputs": [
    {
     "name": "stdout",
     "output_type": "stream",
     "text": [
      "This_ATest\n"
     ]
    }
   ],
   "source": [
    "import re\n",
    "\n",
    "s = input('Input your string: ')\n",
    "\n",
    "def camel_to_snake(s):\n",
    "    result = re.sub('([a-z])([A-Z])', r'\\1_\\2', s)\n",
    "    return result\n",
    "    \n",
    "print(camel_to_snake(s))"
   ]
  }
 ],
 "metadata": {
  "kernelspec": {
   "display_name": "base",
   "language": "python",
   "name": "python3"
  },
  "language_info": {
   "codemirror_mode": {
    "name": "ipython",
    "version": 3
   },
   "file_extension": ".py",
   "mimetype": "text/x-python",
   "name": "python",
   "nbconvert_exporter": "python",
   "pygments_lexer": "ipython3",
   "version": "3.12.7"
  }
 },
 "nbformat": 4,
 "nbformat_minor": 2
}
