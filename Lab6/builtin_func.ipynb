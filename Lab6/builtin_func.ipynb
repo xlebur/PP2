{
 "cells": [
  {
   "cell_type": "code",
   "execution_count": 1,
   "metadata": {},
   "outputs": [
    {
     "name": "stdout",
     "output_type": "stream",
     "text": [
      "Product of list: 25\n"
     ]
    }
   ],
   "source": [
    "import math\n",
    "import functools\n",
    "\n",
    "\n",
    "def multiply_list():\n",
    "    numbers = list(map(int, input(\"Enter numbers separated by space: \").split()))\n",
    "    return functools.reduce(lambda x, y: x * y, numbers)\n",
    "\n",
    "print(\"Product of list:\", multiply_list())"
   ]
  },
  {
   "cell_type": "code",
   "execution_count": 2,
   "metadata": {},
   "outputs": [
    {
     "name": "stdout",
     "output_type": "stream",
     "text": [
      "Upper and lower case count: (0, 10)\n"
     ]
    }
   ],
   "source": [
    "\n",
    "def count_case():\n",
    "    s = input(\"Enter a string: \")\n",
    "    upper_case = sum(1 for char in s if char.isupper())\n",
    "    lower_case = sum(1 for char in s if char.islower())\n",
    "    return upper_case, lower_case\n",
    "\n",
    "print(\"Upper and lower case count:\", count_case())"
   ]
  },
  {
   "cell_type": "code",
   "execution_count": null,
   "metadata": {},
   "outputs": [],
   "source": [
    "def is_palindrome():\n",
    "    s = input(\"Enter a string: \")\n",
    "    return s == s[::-1]\n",
    "\n",
    "print(\"Is palindrome:\", is_palindrome())"
   ]
  },
  {
   "cell_type": "code",
   "execution_count": 5,
   "metadata": {},
   "outputs": [
    {
     "name": "stdout",
     "output_type": "stream",
     "text": [
      "Square root result: 3.872983346207417\n"
     ]
    }
   ],
   "source": [
    "import math\n",
    "import time\n",
    "\n",
    "def delayed_sqrt():\n",
    "    number = int(input(\"Enter a number: \"))\n",
    "    delay = int(input(\"Enter delay in milliseconds: \"))\n",
    "    time.sleep(delay / 1000)  \n",
    "    return math.sqrt(number)\n",
    "\n",
    "print(f\"Square root result: {delayed_sqrt()}\")"
   ]
  },
  {
   "cell_type": "code",
   "execution_count": 4,
   "metadata": {},
   "outputs": [
    {
     "name": "stdout",
     "output_type": "stream",
     "text": [
      "All elements true: False\n"
     ]
    }
   ],
   "source": [
    "import math\n",
    "\n",
    "def all_elements_true():\n",
    "    t = tuple(map(lambda x: x.lower() == 'true', input(\"Enter tuple elements separated by space (True/False): \").split()))\n",
    "    return all(t)\n",
    "\n",
    "print(\"All elements true:\", all_elements_true())\n"
   ]
  }
 ],
 "metadata": {
  "kernelspec": {
   "display_name": "base",
   "language": "python",
   "name": "python3"
  },
  "language_info": {
   "codemirror_mode": {
    "name": "ipython",
    "version": 3
   },
   "file_extension": ".py",
   "mimetype": "text/x-python",
   "name": "python",
   "nbconvert_exporter": "python",
   "pygments_lexer": "ipython3",
   "version": "3.12.7"
  }
 },
 "nbformat": 4,
 "nbformat_minor": 2
}
