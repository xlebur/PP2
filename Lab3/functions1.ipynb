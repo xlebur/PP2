{
 "cells": [
  {
   "cell_type": "markdown",
   "metadata": {},
   "source": [
    "A recipe you are reading states how many grams you need for the ingredient. Unfortunately, your store only sells items in ounces. Create a function to convert grams to ounces. ounces = 28.3495231 * grams"
   ]
  },
  {
   "cell_type": "code",
   "execution_count": 1,
   "metadata": {},
   "outputs": [
    {
     "name": "stdout",
     "output_type": "stream",
     "text": [
      "2834.9523099999997\n"
     ]
    }
   ],
   "source": [
    "def grams_to_ounces(grams):\n",
    "    return 28.3495231 * grams\n",
    "\n",
    "print(grams_to_ounces(100)) "
   ]
  },
  {
   "cell_type": "markdown",
   "metadata": {},
   "source": [
    "Read in a Fahrenheit temperature. Calculate and display the equivalent centigrade temperature. The following formula is used for the conversion: C = (5 / 9) * (F – 32)"
   ]
  },
  {
   "cell_type": "code",
   "execution_count": 2,
   "metadata": {},
   "outputs": [
    {
     "name": "stdout",
     "output_type": "stream",
     "text": [
      "37.77777777777778\n"
     ]
    }
   ],
   "source": [
    "def F_to_C(F):\n",
    "    return (5 / 9) * (F - 32)\n",
    "\n",
    "print(F_to_C(100)) "
   ]
  },
  {
   "cell_type": "markdown",
   "metadata": {},
   "source": [
    "Write a program to solve a classic puzzle: We count 35 heads and 94 legs among the chickens and rabbits in a farm. How many rabbits and how many chickens do we have? create function: solve(numheads, numlegs):"
   ]
  },
  {
   "cell_type": "code",
   "execution_count": 3,
   "metadata": {},
   "outputs": [
    {
     "name": "stdout",
     "output_type": "stream",
     "text": [
      "(23, 12)\n"
     ]
    }
   ],
   "source": [
    "def solve(numheads, numlegs):\n",
    "    for chickens in range(numheads + 1):\n",
    "        rabbits = numheads - chickens\n",
    "        if 2 * chickens + 4 * rabbits == numlegs:\n",
    "            return chickens, rabbits\n",
    "    return \"No solution\"\n",
    "\n",
    "print(solve(35, 94))"
   ]
  },
  {
   "cell_type": "markdown",
   "metadata": {},
   "source": [
    "You are given list of numbers separated by spaces. Write a function filter_prime which will take list of numbers as an agrument and returns only prime numbers from the list."
   ]
  },
  {
   "cell_type": "code",
   "execution_count": 4,
   "metadata": {},
   "outputs": [
    {
     "name": "stdout",
     "output_type": "stream",
     "text": [
      "[2, 3, 5, 11, 17, 23]\n"
     ]
    }
   ],
   "source": [
    "import math\n",
    "\n",
    "def is_prime(n):\n",
    "    if n < 2:\n",
    "        return False\n",
    "    for i in range(2, int(math.sqrt(n)) + 1):\n",
    "        if n % i == 0:\n",
    "            return False\n",
    "    return True\n",
    "def filter_prime(num):\n",
    "    return [x for x in num if is_prime(x)]\n",
    "\n",
    "\n",
    "\n",
    "print(filter_prime([2, 3, 5, 6, 9, 11, 15, 17, 20, 23]))  "
   ]
  },
  {
   "cell_type": "markdown",
   "metadata": {},
   "source": [
    "Write a function that accepts string from user and print all permutations of that string.\n",
    "\n"
   ]
  },
  {
   "cell_type": "code",
   "execution_count": 5,
   "metadata": {},
   "outputs": [
    {
     "name": "stdout",
     "output_type": "stream",
     "text": [
      "abc\n",
      "acb\n",
      "bac\n",
      "bca\n",
      "cab\n",
      "cba\n"
     ]
    }
   ],
   "source": [
    "from itertools import permutations\n",
    "\n",
    "def p_permutations(s):\n",
    "    perms = [''.join(p) for p in permutations(s)]\n",
    "    for perm in perms:\n",
    "        print(perm)\n",
    "\n",
    "p_permutations(\"abc\")"
   ]
  },
  {
   "cell_type": "markdown",
   "metadata": {},
   "source": [
    "Write a function that accepts string from user, return a sentence with the words reversed. We are ready -> ready are We\n",
    "\n"
   ]
  },
  {
   "cell_type": "code",
   "execution_count": 6,
   "metadata": {},
   "outputs": [
    {
     "name": "stdout",
     "output_type": "stream",
     "text": [
      "ready are We\n"
     ]
    }
   ],
   "source": [
    "def reverse_sentence(s):\n",
    "    words = s.split()\n",
    "    return ' '.join(reversed(words))\n",
    "\n",
    "\n",
    "print(reverse_sentence(\"We are ready\")) "
   ]
  },
  {
   "cell_type": "markdown",
   "metadata": {},
   "source": [
    "Given a list of ints, return True if the array contains a 3 next to a 3 somewhere."
   ]
  },
  {
   "cell_type": "code",
   "execution_count": 7,
   "metadata": {},
   "outputs": [
    {
     "name": "stdout",
     "output_type": "stream",
     "text": [
      "True\n",
      "False\n",
      "False\n"
     ]
    }
   ],
   "source": [
    "def has_33(nums):\n",
    "    for i in range(len(nums) - 1):\n",
    "        if nums[i] == 3 and nums[i + 1] == 3:\n",
    "            return True\n",
    "    return False\n",
    "\n",
    "print(has_33([1, 3, 3]))  \n",
    "print(has_33([1, 3, 1, 3])) \n",
    "print(has_33([3, 1, 3]))"
   ]
  },
  {
   "cell_type": "markdown",
   "metadata": {},
   "source": [
    "Write a function that takes in a list of integers and returns True if it contains 007 in order"
   ]
  },
  {
   "cell_type": "code",
   "execution_count": 8,
   "metadata": {},
   "outputs": [
    {
     "name": "stdout",
     "output_type": "stream",
     "text": [
      "True\n",
      "True\n",
      "False\n"
     ]
    }
   ],
   "source": [
    "def spy_game(nums):\n",
    "    code = [0, 0, 7]\n",
    "    index = 0\n",
    "    for num in nums:\n",
    "        if num == code[index]:\n",
    "            index += 1\n",
    "            if index == len(code):\n",
    "                return True\n",
    "    return False\n",
    "\n",
    "print(spy_game([1, 2, 4, 0, 0, 7, 5]))  \n",
    "print(spy_game([1, 0, 2, 4, 0, 5, 7]))  \n",
    "print(spy_game([1, 7, 2, 0, 4, 5, 0]))  "
   ]
  },
  {
   "cell_type": "markdown",
   "metadata": {},
   "source": [
    "Write a function that computes the volume of a sphere given its radius.\n"
   ]
  },
  {
   "cell_type": "code",
   "execution_count": 9,
   "metadata": {},
   "outputs": [
    {
     "name": "stdout",
     "output_type": "stream",
     "text": [
      "523.5987755982989\n"
     ]
    }
   ],
   "source": [
    "import math\n",
    "\n",
    "def sphere_volume(radius):\n",
    "    return (4 / 3) * math.pi * (radius**3)\n",
    "\n",
    "print(sphere_volume(5)) "
   ]
  },
  {
   "cell_type": "markdown",
   "metadata": {},
   "source": [
    "Write a Python function that takes a list and returns a new list with unique elements of the first list. Note: don't use collection set."
   ]
  },
  {
   "cell_type": "code",
   "execution_count": 10,
   "metadata": {},
   "outputs": [
    {
     "name": "stdout",
     "output_type": "stream",
     "text": [
      "[1, 2, 3, 4, 5]\n"
     ]
    }
   ],
   "source": [
    "def unique_elements(lst):\n",
    "    unique = []\n",
    "    for item in lst:\n",
    "        if item not in unique:\n",
    "            unique.append(item)\n",
    "    return unique\n",
    "\n",
    "print(unique_elements([1, 2, 2, 3, 4, 4, 5]))  "
   ]
  },
  {
   "cell_type": "markdown",
   "metadata": {},
   "source": [
    "Write a Python function that checks whether a word or phrase is palindrome or not. Note: A palindrome is word, phrase, or sequence that reads the same backward as forward, e.g., madam\n",
    "\n"
   ]
  },
  {
   "cell_type": "code",
   "execution_count": 11,
   "metadata": {},
   "outputs": [
    {
     "name": "stdout",
     "output_type": "stream",
     "text": [
      "True\n",
      "True\n"
     ]
    }
   ],
   "source": [
    "def is_palindrome(s):\n",
    "    s = s.replace(\" \", \"\").lower()\n",
    "    return s == s[::-1]\n",
    "\n",
    "print(is_palindrome(\"madam\")) \n",
    "print(is_palindrome(\"A man a plan a canal Panama\"))"
   ]
  },
  {
   "cell_type": "markdown",
   "metadata": {},
   "source": [
    "Define a functino histogram() that takes a list of integers and prints a histogram to the screen. For example, histogram([4, 9, 7]) should print the following:\n",
    "\n"
   ]
  },
  {
   "cell_type": "code",
   "execution_count": 12,
   "metadata": {},
   "outputs": [
    {
     "name": "stdout",
     "output_type": "stream",
     "text": [
      "****\n",
      "*********\n",
      "*******\n"
     ]
    }
   ],
   "source": [
    "def histogram(lst):\n",
    "    for num in lst:\n",
    "        print('*' * num)\n",
    "\n",
    "histogram([4, 9, 7])"
   ]
  },
  {
   "cell_type": "markdown",
   "metadata": {},
   "source": [
    "Write a program able to play the \"Guess the number\" - game, where the number to be guessed is randomly chosen between 1 and 20. This is how it should work when run in a terminal:"
   ]
  },
  {
   "cell_type": "code",
   "execution_count": null,
   "metadata": {},
   "outputs": [
    {
     "name": "stdout",
     "output_type": "stream",
     "text": [
      "number between 1 and 20.\n",
      "Invalid input. Please enter a number.\n",
      "Invalid input. Please enter a number.\n",
      "Invalid input. Please enter a number.\n",
      "Invalid input. Please enter a number.\n",
      "Invalid input. Please enter a number.\n",
      "Invalid input. Please enter a number.\n",
      "Invalid input. Please enter a number.\n",
      "Invalid input. Please enter a number.\n",
      "Invalid input. Please enter a number.\n",
      "Invalid input. Please enter a number.\n",
      "Invalid input. Please enter a number.\n",
      "Invalid input. Please enter a number.\n",
      "Invalid input. Please enter a number.\n",
      "Invalid input. Please enter a number.\n",
      "Invalid input. Please enter a number.\n",
      "Invalid input. Please enter a number.\n",
      "Invalid input. Please enter a number.\n",
      "Invalid input. Please enter a number.\n",
      "Invalid input. Please enter a number.\n",
      "Invalid input. Please enter a number.\n",
      "Invalid input. Please enter a number.\n",
      "Invalid input. Please enter a number.\n",
      "Invalid input. Please enter a number.\n",
      "Invalid input. Please enter a number.\n",
      "Invalid input. Please enter a number.\n",
      "Invalid input. Please enter a number.\n",
      "Invalid input. Please enter a number.\n",
      "Invalid input. Please enter a number.\n",
      "Invalid input. Please enter a number.\n"
     ]
    }
   ],
   "source": [
    "import random\n",
    "\n",
    "def guess_the_number():\n",
    "    print(f\"number between 1 and 20.\")\n",
    "    number = random.randint(1, 20)\n",
    "    guesses = 0\n",
    "\n",
    "    while True:\n",
    "        try:\n",
    "            guess = int(input(\"Take a guess: \"))\n",
    "            guesses += 1\n",
    "            if guess < number:\n",
    "                print(\"Your guess is too low.\")\n",
    "            elif guess > number:\n",
    "                print(\"Your guess is too high.\")\n",
    "            else:\n",
    "                print(f\"You guessed number in {guesses} guesses!\")\n",
    "                break\n",
    "        except ValueError:\n",
    "            print(\"Invalid input. Please enter a number.\")\n",
    "\n",
    "guess_the_number()"
   ]
  },
  {
   "cell_type": "markdown",
   "metadata": {},
   "source": [
    "Create a python file and import some of the functions from the above 13 tasks and try to use them."
   ]
  },
  {
   "cell_type": "code",
   "execution_count": null,
   "metadata": {},
   "outputs": [
    {
     "ename": "NameError",
     "evalue": "name 'grams_to_ounces' is not defined",
     "output_type": "error",
     "traceback": [
      "\u001b[1;31m---------------------------------------------------------------------------\u001b[0m",
      "\u001b[1;31mNameError\u001b[0m                                 Traceback (most recent call last)",
      "Cell \u001b[1;32mIn[1], line 1\u001b[0m\n\u001b[1;32m----> 1\u001b[0m \u001b[38;5;28mprint\u001b[39m(grams_to_ounces(\u001b[38;5;241m100\u001b[39m))\n\u001b[0;32m      2\u001b[0m \u001b[38;5;28mprint\u001b[39m(F_to_C(\u001b[38;5;241m98.6\u001b[39m))\n\u001b[0;32m      3\u001b[0m \u001b[38;5;28mprint\u001b[39m(solve(\u001b[38;5;241m35\u001b[39m, \u001b[38;5;241m94\u001b[39m))\n",
      "\u001b[1;31mNameError\u001b[0m: name 'grams_to_ounces' is not defined"
     ]
    }
   ],
   "source": [
    "print(grams_to_ounces(100))\n",
    "print(F_to_C(98.6))\n",
    "print(solve(35, 94))"
   ]
  },
  {
   "cell_type": "code",
   "execution_count": null,
   "metadata": {},
   "outputs": [
    {
     "name": "stdout",
     "output_type": "stream",
     "text": [
      "The maz value of the list is  14\n",
      "The min value of the list is  2\n",
      "The min value of the list is  None\n",
      "5.857142857142857\n"
     ]
    },
    {
     "ename": "",
     "evalue": "",
     "output_type": "error",
     "traceback": [
      "\u001b[1;31mThe Kernel crashed while executing code in the current cell or a previous cell. \n",
      "\u001b[1;31mPlease review the code in the cell(s) to identify a possible cause of the failure. \n",
      "\u001b[1;31mClick <a href='https://aka.ms/vscodeJupyterKernelCrash'>here</a> for more info. \n",
      "\u001b[1;31mView Jupyter <a href='command:jupyter.viewOutput'>log</a> for further details."
     ]
    }
   ],
   "source": [
    "num_list = [ 2, 3, 4, 14, 5, 6, 7]\n",
    "def max_value():\n",
    "    max_v = num_list[0]\n",
    "    for i in num_list:\n",
    "        if i > max_v:\n",
    "            max_v = i\n",
    "    return max_v\n",
    "\n",
    "def min_value():\n",
    "    min_v = num_list[0]\n",
    "    for i in num_list:\n",
    "        if i < min_v:\n",
    "            max_v = i\n",
    "    print(\"The min value of the list is \", min_v)\n",
    "\n",
    "def avg_value():\n",
    "    avg = sum(num_list)\n",
    "    return avg / len(num_list)\n",
    "\n",
    "print(\"The maz value of the list is \", max_value())\n",
    "print(\"The min value of the list is \", min_value())\n",
    "print(avg_value())\n",
    "        \n"
   ]
  }
 ],
 "metadata": {
  "kernelspec": {
   "display_name": "base",
   "language": "python",
   "name": "python3"
  },
  "language_info": {
   "codemirror_mode": {
    "name": "ipython",
    "version": 3
   },
   "file_extension": ".py",
   "mimetype": "text/x-python",
   "name": "python",
   "nbconvert_exporter": "python",
   "pygments_lexer": "ipython3",
   "version": "3.12.7"
  }
 },
 "nbformat": 4,
 "nbformat_minor": 2
}
